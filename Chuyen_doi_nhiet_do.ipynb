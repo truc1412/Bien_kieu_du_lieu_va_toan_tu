{
 "cells": [
  {
   "cell_type": "code",
   "execution_count": 2,
   "id": "f2c008fd",
   "metadata": {},
   "outputs": [
    {
     "name": "stdout",
     "output_type": "stream",
     "text": [
      "Nhập nhiệt độ đơn vị độ C: 0\n",
      "Nhiệt độ đơn vị độ F:  32.0\n"
     ]
    }
   ],
   "source": [
    "c = input(\"Nhập nhiệt độ đơn vị độ C: \")\n",
    "\n",
    "f = (9*(int(c))/5)+32\n",
    "\n",
    "print(\"Nhiệt độ đơn vị độ F: \", f)"
   ]
  },
  {
   "cell_type": "code",
   "execution_count": null,
   "id": "a56ab476",
   "metadata": {},
   "outputs": [],
   "source": []
  }
 ],
 "metadata": {
  "kernelspec": {
   "display_name": "Python 3 (ipykernel)",
   "language": "python",
   "name": "python3"
  },
  "language_info": {
   "codemirror_mode": {
    "name": "ipython",
    "version": 3
   },
   "file_extension": ".py",
   "mimetype": "text/x-python",
   "name": "python",
   "nbconvert_exporter": "python",
   "pygments_lexer": "ipython3",
   "version": "3.9.13"
  }
 },
 "nbformat": 4,
 "nbformat_minor": 5
}
